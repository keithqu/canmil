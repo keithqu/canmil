{
 "cells": [
  {
   "cell_type": "code",
   "execution_count": 184,
   "metadata": {},
   "outputs": [],
   "source": [
    "from bs4 import BeautifulSoup\n",
    "import requests\n",
    "import pandas as pd\n",
    "import numpy as np\n",
    "import matplotlib.pyplot as plt\n",
    "import seaborn as sns\n",
    "import lxml.html as lh\n",
    "from IPython.display import clear_output\n",
    "from datetime import datetime\n",
    "import json\n",
    "%matplotlib inline"
   ]
  },
  {
   "cell_type": "code",
   "execution_count": 3,
   "metadata": {},
   "outputs": [],
   "source": [
    "# want the urls, so need more complexity\n",
    "# opsTable = pd.read_html('https://www.canada.ca/en/department-national-defence/services/military-history/history-heritage/past-operations.html')[0]"
   ]
  },
  {
   "cell_type": "code",
   "execution_count": 4,
   "metadata": {},
   "outputs": [],
   "source": [
    "page = requests.get('https://www.canada.ca/en/department-national-defence/services/military-history/history-heritage/past-operations.html')"
   ]
  },
  {
   "cell_type": "code",
   "execution_count": 5,
   "metadata": {},
   "outputs": [],
   "source": [
    "content = BeautifulSoup(page.text, 'html.parser')"
   ]
  },
  {
   "cell_type": "code",
   "execution_count": 6,
   "metadata": {},
   "outputs": [],
   "source": [
    "table = content.find('div',{'class': 'table-responsive'}).findAll('tr')"
   ]
  },
  {
   "cell_type": "code",
   "execution_count": 7,
   "metadata": {},
   "outputs": [],
   "source": [
    "base = 'https://www.canada.ca'\n",
    "arr = []\n",
    "for i in range(len(table)):\n",
    "    colText = []\n",
    "    cols = table[i].findAll('td')\n",
    "    for j in range(len(cols)):\n",
    "        colText.append(cols[j].text)\n",
    "        if j == 4:\n",
    "            colText.append(base + cols[0].find('a').get('href'))\n",
    "    if i == 0:\n",
    "        colText = colText = ['opName','countryRegion','continent','startDate','endDate','url']\n",
    "    arr.append(colText)"
   ]
  },
  {
   "cell_type": "code",
   "execution_count": 17,
   "metadata": {},
   "outputs": [],
   "source": [
    "df = pd.DataFrame(arr)\n",
    "header = df.iloc[0]\n",
    "df = df[1:]\n",
    "df.columns = header"
   ]
  },
  {
   "cell_type": "code",
   "execution_count": 18,
   "metadata": {},
   "outputs": [],
   "source": [
    "df.startDate = pd.to_datetime(df.startDate)\n",
    "df.endDate = pd.to_datetime(df.endDate,errors='coerce',)"
   ]
  },
  {
   "cell_type": "code",
   "execution_count": 19,
   "metadata": {},
   "outputs": [],
   "source": [
    "df.loc[df.endDate.isnull(),'endDate'] = datetime.now()"
   ]
  },
  {
   "cell_type": "code",
   "execution_count": 20,
   "metadata": {},
   "outputs": [],
   "source": [
    "df.reset_index(inplace=True,drop=True)"
   ]
  },
  {
   "cell_type": "code",
   "execution_count": 21,
   "metadata": {},
   "outputs": [
    {
     "data": {
      "text/html": [
       "<div>\n",
       "<style scoped>\n",
       "    .dataframe tbody tr th:only-of-type {\n",
       "        vertical-align: middle;\n",
       "    }\n",
       "\n",
       "    .dataframe tbody tr th {\n",
       "        vertical-align: top;\n",
       "    }\n",
       "\n",
       "    .dataframe thead th {\n",
       "        text-align: right;\n",
       "    }\n",
       "</style>\n",
       "<table border=\"1\" class=\"dataframe\">\n",
       "  <thead>\n",
       "    <tr style=\"text-align: right;\">\n",
       "      <th></th>\n",
       "      <th>opName</th>\n",
       "      <th>countryRegion</th>\n",
       "      <th>continent</th>\n",
       "      <th>startDate</th>\n",
       "      <th>endDate</th>\n",
       "      <th>url</th>\n",
       "    </tr>\n",
       "  </thead>\n",
       "  <tbody>\n",
       "    <tr>\n",
       "      <th>0</th>\n",
       "      <td>(Algeria 1980)</td>\n",
       "      <td>Algeria</td>\n",
       "      <td>Africa</td>\n",
       "      <td>1980-11-14</td>\n",
       "      <td>1980-11-19</td>\n",
       "      <td>https://www.canada.ca/en/department-national-d...</td>\n",
       "    </tr>\n",
       "    <tr>\n",
       "      <th>1</th>\n",
       "      <td>PASTEL</td>\n",
       "      <td>Angola</td>\n",
       "      <td>Africa</td>\n",
       "      <td>1991-05-30</td>\n",
       "      <td>1995-02-08</td>\n",
       "      <td>https://www.canada.ca/en/department-national-d...</td>\n",
       "    </tr>\n",
       "    <tr>\n",
       "      <th>2</th>\n",
       "      <td>PRUDENCE</td>\n",
       "      <td>Central African Republic</td>\n",
       "      <td>Africa</td>\n",
       "      <td>1998-04-15</td>\n",
       "      <td>1999-10-22</td>\n",
       "      <td>https://www.canada.ca/en/department-national-d...</td>\n",
       "    </tr>\n",
       "    <tr>\n",
       "      <th>3</th>\n",
       "      <td>MALLARD</td>\n",
       "      <td>Congo</td>\n",
       "      <td>Africa</td>\n",
       "      <td>1960-07-14</td>\n",
       "      <td>1964-06-30</td>\n",
       "      <td>https://www.canada.ca/en/department-national-d...</td>\n",
       "    </tr>\n",
       "    <tr>\n",
       "      <th>4</th>\n",
       "      <td>Opération des Nations unies au Congo</td>\n",
       "      <td>Congo</td>\n",
       "      <td>Africa</td>\n",
       "      <td>1960-07-14</td>\n",
       "      <td>1964-06-30</td>\n",
       "      <td>https://www.canada.ca/en/department-national-d...</td>\n",
       "    </tr>\n",
       "  </tbody>\n",
       "</table>\n",
       "</div>"
      ],
      "text/plain": [
       "0                                opName             countryRegion continent  \\\n",
       "0                        (Algeria 1980)                   Algeria    Africa   \n",
       "1                                PASTEL                    Angola    Africa   \n",
       "2                              PRUDENCE  Central African Republic    Africa   \n",
       "3                               MALLARD                     Congo    Africa   \n",
       "4  Opération des Nations unies au Congo                     Congo    Africa   \n",
       "\n",
       "0  startDate    endDate                                                url  \n",
       "0 1980-11-14 1980-11-19  https://www.canada.ca/en/department-national-d...  \n",
       "1 1991-05-30 1995-02-08  https://www.canada.ca/en/department-national-d...  \n",
       "2 1998-04-15 1999-10-22  https://www.canada.ca/en/department-national-d...  \n",
       "3 1960-07-14 1964-06-30  https://www.canada.ca/en/department-national-d...  \n",
       "4 1960-07-14 1964-06-30  https://www.canada.ca/en/department-national-d...  "
      ]
     },
     "execution_count": 21,
     "metadata": {},
     "output_type": "execute_result"
    }
   ],
   "source": [
    "df.head(5)"
   ]
  },
  {
   "cell_type": "code",
   "execution_count": 183,
   "metadata": {},
   "outputs": [
    {
     "name": "stdout",
     "output_type": "stream",
     "text": [
      "335/336\n"
     ]
    }
   ],
   "source": [
    "bigArr = []\n",
    "for i in range(len(df)):\n",
    "    clear_output(wait=True)\n",
    "    print('{}/{}'.format(i+1,len(df)+1))\n",
    "    \n",
    "    rowDict = {}\n",
    "    row = df.iloc[i]\n",
    "    rowDict['opName'] = row.opName\n",
    "    rowDict['countryRegion'] = row.countryRegion\n",
    "    rowDict['continent'] = row.continent\n",
    "    rowDict['startDate'] = row.startDate.strftime('%Y-%m-%d')\n",
    "    rowDict['endDate'] = row.endDate.strftime('%Y-%m-%d')\n",
    "    rowDict['url'] = row.url\n",
    "    rowDict['details'] = {}\n",
    "    \n",
    "    page = requests.get(row.url)\n",
    "    content = BeautifulSoup(page.text, 'html.parser')\n",
    "    area = content.find('div',{'class':'mwsbodytext text parbase section'}).findAll('p')\n",
    "\n",
    "    for i in range(len(area)):\n",
    "        current = area[i]\n",
    "        # sometimes there's a preamble description that really adds nothing\n",
    "        if (i == 0) and (current.find('strong') is None):\n",
    "            pass\n",
    "        elif current.find('strong') is not None:\n",
    "            thisText = current.text.replace(u'\\xa0',u'').split(':',1)\n",
    "            if (len(thisText) > 1):\n",
    "                rowDict['details'][thisText[0]] = thisText[1]\n",
    "            else:\n",
    "                rowDict['details'][thisText[0]] = 'NONE'\n",
    "        else:\n",
    "            rowDict['details'][thisText[0]] += ' ' + current.text\n",
    "    \n",
    "    bigArr.append(rowDict)"
   ]
  },
  {
   "cell_type": "code",
   "execution_count": 185,
   "metadata": {},
   "outputs": [],
   "source": [
    "with open('canmil.json', 'w') as outfile:\n",
    "    json.dump(bigArr,outfile)"
   ]
  },
  {
   "cell_type": "code",
   "execution_count": null,
   "metadata": {},
   "outputs": [],
   "source": []
  }
 ],
 "metadata": {
  "kernelspec": {
   "display_name": "Python 3",
   "language": "python",
   "name": "python3"
  },
  "language_info": {
   "codemirror_mode": {
    "name": "ipython",
    "version": 3
   },
   "file_extension": ".py",
   "mimetype": "text/x-python",
   "name": "python",
   "nbconvert_exporter": "python",
   "pygments_lexer": "ipython3",
   "version": "3.7.0"
  }
 },
 "nbformat": 4,
 "nbformat_minor": 2
}
